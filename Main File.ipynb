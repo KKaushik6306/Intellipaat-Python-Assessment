{
 "cells": [
  {
   "cell_type": "markdown",
   "metadata": {},
   "source": [
    "Q1. Using Python script as a calculator\n",
    "Create the variables n, r, p and assign them values 10, 5, and 100 respectively. Then\n",
    "evaluate the following expression in the Python console."
   ]
  },
  {
   "cell_type": "code",
   "execution_count": 1,
   "metadata": {},
   "outputs": [
    {
     "name": "stdout",
     "output_type": "stream",
     "text": [
      "1050.0\n"
     ]
    }
   ],
   "source": [
    "n=10\n",
    "r=5\n",
    "p=100\n",
    "A = p*(1 + r/ 100)*n\n",
    "print(A)"
   ]
  },
  {
   "cell_type": "markdown",
   "metadata": {},
   "source": [
    "Q2. In a given string format operation, how will you print the given string. <br>\n",
    "A = 10<br>\n",
    "B = 20<br>\n",
    "Str = \"There are {} students in the class, with {} who play at least one sport.\"<br>\n",
    "a. print(string.format(a,b))<br>\n",
    "b. print(string+a+b)<br>\n",
    "c. print(string.format(b,a))<br>\n",
    "d. None of the above<br>"
   ]
  },
  {
   "cell_type": "code",
   "execution_count": 2,
   "metadata": {},
   "outputs": [
    {
     "name": "stdout",
     "output_type": "stream",
     "text": [
      "There are 20 students in the class, with 10 who play at least one sport.\n",
      "Correct Ans is C\n"
     ]
    }
   ],
   "source": [
    "a = 10\n",
    "b = 20\n",
    "Str = \"There are {} students in the class, with {} who play at least one sport.\"\n",
    "string = \"There are {} students in the class, with {} who play at least one sport.\"\n",
    "print(string.format(b,a))\n",
    "\n",
    "print('Correct Ans is C')"
   ]
  },
  {
   "cell_type": "markdown",
   "metadata": {},
   "source": [
    "Q3. In a given sample string, How do you print a double quoted string in between a\n",
    "regular <br>\n",
    "string using the escape character? <br>\n",
    "Sample output = It goes without saying, “Time is Money”, and none can deny it. <br>\n",
    "a. print(“It goes without saying, \\“Time is Money\\”, and none can deny it.”) <br>\n",
    "b. print(“It goes without saying, \\Time is Money\\, and none can deny it.”) <br>\n",
    "c. print(“It goes without saying” + “Time is Money” + “and none can deny it.”) <br>\n",
    "d. None of the above. <br>"
   ]
  },
  {
   "cell_type": "code",
   "execution_count": 3,
   "metadata": {},
   "outputs": [
    {
     "name": "stdout",
     "output_type": "stream",
     "text": [
      "It goes without saying, \"Time is Money\", and none can deny it.\n",
      "Correct Ans is B\n"
     ]
    }
   ],
   "source": [
    " print(\"It goes without saying, \\\"Time is Money\\\", and none can deny it.\")\n",
    "\n",
    "print('Correct Ans is B')"
   ]
  },
  {
   "cell_type": "markdown",
   "metadata": {},
   "source": [
    "Q4. What will be the output of the following code?<br>\n",
    "x = lambda a,b: a//b<br>\n",
    "x(10,3)<br>\n",
    "a. 3.3333333333<br>\n",
    "b. 3<br>\n",
    "c. 30<br>\n",
    "d. 1000<br>\n"
   ]
  },
  {
   "cell_type": "code",
   "execution_count": 4,
   "metadata": {},
   "outputs": [
    {
     "name": "stdout",
     "output_type": "stream",
     "text": [
      "3\n",
      "Correct ans is B\n"
     ]
    }
   ],
   "source": [
    "x = lambda a,b:a//b\n",
    "print(x(10,3))\n",
    "print('Correct ans is B')"
   ]
  },
  {
   "cell_type": "markdown",
   "metadata": {},
   "source": [
    "Q5. What will be the output of the following code?<br>\n",
    "A = 10<br>\n",
    "B = 12<br>\n",
    "print(\"Smaller\") if A == B else print(\"Greater\") if A < B else print(\"True\")<br>\n",
    "a. True<br>\n",
    "b. Smaller<br>\n",
    "c. Greater<br>\n",
    "d. None of the above"
   ]
  },
  {
   "cell_type": "code",
   "execution_count": 5,
   "metadata": {},
   "outputs": [
    {
     "name": "stdout",
     "output_type": "stream",
     "text": [
      "Greater\n",
      "Correct ans is C\n"
     ]
    }
   ],
   "source": [
    "A=10\n",
    "B=12\n",
    "print(\"Smaller\") if A == B else print(\"Greater\") if A < B else print(\"True\")\n",
    "print('Correct ans is C')"
   ]
  },
  {
   "cell_type": "markdown",
   "metadata": {},
   "source": [
    "Q6. What will be the output of the following code?<br>\n",
    "\n",
    "import os <br>\n",
    "import numpy as np<br>\n",
    "my_list1 = [2,7,3,5,4,6]<br>\n",
    "arr_1 = numpy.array(my_list1,dtype=int)<br>\n",
    "print(arr_1)<br>\n",
    "<br>\n",
    "a. [2 7 3 5 4 6]<br>\n",
    "b. TypeError<br>\n",
    "c. NameError: name 'numpy' is not defined<br>\n",
    "d. None of the above<br>"
   ]
  },
  {
   "cell_type": "code",
   "execution_count": 6,
   "metadata": {},
   "outputs": [
    {
     "ename": "NameError",
     "evalue": "name 'numpy' is not defined",
     "output_type": "error",
     "traceback": [
      "\u001b[1;31m---------------------------------------------------------------------------\u001b[0m",
      "\u001b[1;31mNameError\u001b[0m                                 Traceback (most recent call last)",
      "\u001b[1;32m~\\AppData\\Local\\Temp\\ipykernel_5360\\4006426925.py\u001b[0m in \u001b[0;36m<module>\u001b[1;34m\u001b[0m\n\u001b[0;32m      2\u001b[0m \u001b[1;32mimport\u001b[0m \u001b[0mnumpy\u001b[0m \u001b[1;32mas\u001b[0m \u001b[0mnp\u001b[0m\u001b[1;33m\u001b[0m\u001b[1;33m\u001b[0m\u001b[0m\n\u001b[0;32m      3\u001b[0m \u001b[0mmy_list1\u001b[0m \u001b[1;33m=\u001b[0m \u001b[1;33m[\u001b[0m\u001b[1;36m2\u001b[0m\u001b[1;33m,\u001b[0m\u001b[1;36m7\u001b[0m\u001b[1;33m,\u001b[0m\u001b[1;36m3\u001b[0m\u001b[1;33m,\u001b[0m\u001b[1;36m5\u001b[0m\u001b[1;33m,\u001b[0m\u001b[1;36m4\u001b[0m\u001b[1;33m,\u001b[0m\u001b[1;36m6\u001b[0m\u001b[1;33m]\u001b[0m\u001b[1;33m\u001b[0m\u001b[1;33m\u001b[0m\u001b[0m\n\u001b[1;32m----> 4\u001b[1;33m \u001b[0marr_1\u001b[0m \u001b[1;33m=\u001b[0m \u001b[0mnumpy\u001b[0m\u001b[1;33m.\u001b[0m\u001b[0marray\u001b[0m\u001b[1;33m(\u001b[0m\u001b[0mmy_list1\u001b[0m\u001b[1;33m,\u001b[0m\u001b[0mdtype\u001b[0m\u001b[1;33m=\u001b[0m\u001b[0mint\u001b[0m\u001b[1;33m)\u001b[0m\u001b[1;33m\u001b[0m\u001b[1;33m\u001b[0m\u001b[0m\n\u001b[0m\u001b[0;32m      5\u001b[0m \u001b[0mprint\u001b[0m\u001b[1;33m(\u001b[0m\u001b[0marr_1\u001b[0m\u001b[1;33m)\u001b[0m\u001b[1;33m\u001b[0m\u001b[1;33m\u001b[0m\u001b[0m\n\u001b[0;32m      6\u001b[0m \u001b[0mprint\u001b[0m\u001b[1;33m(\u001b[0m\u001b[1;34m'Correct ans is C'\u001b[0m\u001b[1;33m)\u001b[0m\u001b[1;33m\u001b[0m\u001b[1;33m\u001b[0m\u001b[0m\n",
      "\u001b[1;31mNameError\u001b[0m: name 'numpy' is not defined"
     ]
    }
   ],
   "source": [
    "import os\n",
    "import numpy as np\n",
    "my_list1 = [2,7,3,5,4,6]\n",
    "arr_1 = numpy.array(my_list1,dtype=int)\n",
    "print(arr_1)\n",
    "print('Correct ans is C')"
   ]
  },
  {
   "cell_type": "markdown",
   "metadata": {},
   "source": [
    "Q7. Create a string called ‘string’ with the value as “Machine Learning”. Which code(s) <Br>\n",
    "is/are appropriate to slice the substring “Learn”?<Br>\n",
    "a. string[slice(13,8,1)]<Br>\n",
    "b. string[slice(1,8,1)]<Br>\n",
    "c. string[8:14]<Br>\n",
    "d. string[slice(8,13,1)]<Br>"
   ]
  },
  {
   "cell_type": "code",
   "execution_count": 7,
   "metadata": {},
   "outputs": [
    {
     "name": "stdout",
     "output_type": "stream",
     "text": [
      "Learn\n",
      "Correct ans is D\n"
     ]
    }
   ],
   "source": [
    "string = 'Machine Learning'\n",
    "print(string[slice(8,13,1)])\n",
    "\n",
    "print('Correct ans is D')"
   ]
  },
  {
   "cell_type": "markdown",
   "metadata": {},
   "source": [
    "Q8. Create a sequence of numbers from 10 to 25 and increment by 4. What is the index <br>\n",
    "of the<br>\n",
    "value 18?<br>\n",
    "a. 3<br>\n",
    "b. 2<br>\n",
    "c. 0<br>\n",
    "d. 1<br>"
   ]
  },
  {
   "cell_type": "code",
   "execution_count": 8,
   "metadata": {},
   "outputs": [
    {
     "name": "stdout",
     "output_type": "stream",
     "text": [
      "Index for value 18 is 2\n",
      "Correct ans is B\n"
     ]
    }
   ],
   "source": [
    "temp = []\n",
    "for num in range(10,25,4):\n",
    "    temp.append(num)\n",
    "print('Index for value 18 is',temp.index(18))\n",
    "\n",
    "print('Correct ans is B')"
   ]
  },
  {
   "cell_type": "markdown",
   "metadata": {},
   "source": [
    "Q9. Which of the following is true with respect to the below codes?<br>\n",
    "\n",
    "num1 = 5**4<br>\n",
    "num2 = pow(5,4)<br>\n",
    "print(num1,num2)<br>\n",
    "\n",
    "a. num1 = num2<br>\n",
    "b. num1 ≠ num2<br>\n",
    "c. num1 < num2<br>\n",
    "d. num1 > num2<br>"
   ]
  },
  {
   "cell_type": "code",
   "execution_count": 9,
   "metadata": {},
   "outputs": [
    {
     "name": "stdout",
     "output_type": "stream",
     "text": [
      "625 625\n",
      "num1 & num2 both values are equal!\n",
      "Correct ans is A\n"
     ]
    }
   ],
   "source": [
    "num1 = 5**4\n",
    "num2 = pow(5,4)\n",
    "print(num1,num2)\n",
    "print('num1 & num2 both values are equal!')\n",
    "\n",
    "if num1==num2:\n",
    "    print('Correct ans is A')"
   ]
  },
  {
   "cell_type": "markdown",
   "metadata": {},
   "source": [
    "Q10.A Python NameError exception is raised when: - <br>\n",
    "a. Trying to access a variable which has not been defined<br>\n",
    "b. Trying to access a key in a dictionary that does not exist<br>\n",
    "c. Accessing a column with misspelled column name<br>\n",
    "d. Accessing the function from a module that has not been imported<br>"
   ]
  },
  {
   "cell_type": "code",
   "execution_count": 10,
   "metadata": {},
   "outputs": [
    {
     "name": "stdout",
     "output_type": "stream",
     "text": [
      "Correct ans is A\n"
     ]
    }
   ],
   "source": [
    "print('Correct ans is A')"
   ]
  },
  {
   "cell_type": "markdown",
   "metadata": {},
   "source": [
    "Q11.What type of exception will be raised for the code given below? <br>\n",
    "\n",
    "x = 'String'<br>\n",
    "int(x)<br> <br>\n",
    "a. NameError<br>\n",
    "b. KeyError<br>\n",
    "c. ValueError<br>\n",
    "d. AttributeError<br>"
   ]
  },
  {
   "cell_type": "code",
   "execution_count": 11,
   "metadata": {},
   "outputs": [
    {
     "name": "stdout",
     "output_type": "stream",
     "text": [
      "Corret ans is C\n"
     ]
    }
   ],
   "source": [
    "print('Corret ans is C')\n"
   ]
  },
  {
   "cell_type": "markdown",
   "metadata": {},
   "source": [
    "Q12.A FileNotFoundError exception is raised by operating system errors when: - <br>\n",
    "a. Trying to create a file or directory which already exists<br>\n",
    "b. A file or directory is requested but does not exist in the working directory<br>\n",
    "c. Trying to run an operation without the adequate access rights<br>\n",
    "d. A directory operation, os.listdir() is requested on something which is not a<br>\n",
    "directory<br>"
   ]
  },
  {
   "cell_type": "code",
   "execution_count": 12,
   "metadata": {},
   "outputs": [
    {
     "name": "stdout",
     "output_type": "stream",
     "text": [
      "Correct ans is B\n"
     ]
    }
   ],
   "source": [
    "print('Correct ans is B')"
   ]
  },
  {
   "cell_type": "markdown",
   "metadata": {},
   "source": [
    "Q13.Consider a variable Z. The value of Z is \"ID-5632\". Data type of Z is: - <br>\n",
    "a. Complex<br>\n",
    "b. Character<br>\n",
    "c. Integer<br>\n",
    "d. Boolean<br>"
   ]
  },
  {
   "cell_type": "code",
   "execution_count": 13,
   "metadata": {},
   "outputs": [
    {
     "name": "stdout",
     "output_type": "stream",
     "text": [
      "Correct ans is B\n"
     ]
    }
   ],
   "source": [
    "print('Correct ans is B')"
   ]
  },
  {
   "cell_type": "markdown",
   "metadata": {},
   "source": [
    "Q14.Which of the following variable(s) are character data type? <br>\n",
    "a. K= “4”<br>\n",
    "b. J= “Welcome”<br>\n",
    "c. L= “?”<br>\n",
    "d. All of the above<br>"
   ]
  },
  {
   "cell_type": "code",
   "execution_count": 14,
   "metadata": {},
   "outputs": [
    {
     "name": "stdout",
     "output_type": "stream",
     "text": [
      "Correct ans is D\n"
     ]
    }
   ],
   "source": [
    "print('Correct ans is D')"
   ]
  },
  {
   "cell_type": "markdown",
   "metadata": {},
   "source": [
    "Q15.Choose the symbol/s that does not have the ability to convert any values to string? <br>\n",
    "a. ( )<br>\n",
    "b. “ ”<br>\n",
    "c. {}<br>\n",
    "d. #<br>"
   ]
  },
  {
   "cell_type": "code",
   "execution_count": 15,
   "metadata": {},
   "outputs": [
    {
     "name": "stdout",
     "output_type": "stream",
     "text": [
      "Correct ans is D\n"
     ]
    }
   ],
   "source": [
    "print('Correct ans is D')"
   ]
  },
  {
   "cell_type": "markdown",
   "metadata": {},
   "source": [
    "Q16.Create a dictionary ‘Country’ that maps the following countries to their capitals\n",
    "respectively:<Br>\n",
    "Country India China Japan Qatar France<Br>\n",
    "State Delhi Beijing Tokyo Doha Marseilles<Br>\n",
    "Find 2 commands to replace “Marseilles” with “Paris” is:<Br>"
   ]
  },
  {
   "cell_type": "code",
   "execution_count": 16,
   "metadata": {},
   "outputs": [
    {
     "name": "stdout",
     "output_type": "stream",
     "text": [
      "{'India': 'Delhi', 'China': 'Beijing', 'Japan': 'Tokyo', 'Qatar': 'Doha', 'France': 'Paris'}\n",
      "{'India': 'Delhi', 'China': 'Beijing', 'Japan': 'Tokyo', 'Qatar': 'Doha', 'France': 'Paris'}\n"
     ]
    }
   ],
   "source": [
    "Country = {'India':'Delhi','China':'Beijing','Japan':'Tokyo','Qatar':'Doha','France':'Marseilles'}\n",
    "\n",
    "#1st Way\n",
    "Country.update({'France':'Paris'})\n",
    "print(Country)\n",
    "\n",
    "\n",
    "#2nd Way\n",
    "Country = {'India':'Delhi','China':'Beijing','Japan':'Tokyo','Qatar':'Doha','France':'Marseilles'}\n",
    "for key,value in Country.items():\n",
    "    if key=='France':\n",
    "        Country[key]='Paris'\n",
    "print(Country)"
   ]
  },
  {
   "cell_type": "markdown",
   "metadata": {},
   "source": [
    "Q17. Create the tuples given below <br>\n",
    "tuple_1 = (1,5,6,7,8)<br>\n",
    "tuple_2 = (8,9,4)<br>\n",
    "Identify which of the following code does not work on a tuple.<br>\n",
    "a. sum(tuple_1)<br>\n",
    "b. len(tuple_2)<br>\n",
    "c. tuple_2 + tuple_1<br>\n",
    "d. tuple_1[3] = 45<br>"
   ]
  },
  {
   "cell_type": "code",
   "execution_count": 17,
   "metadata": {},
   "outputs": [
    {
     "name": "stdout",
     "output_type": "stream",
     "text": [
      "Correct ans is D as tuple \n"
     ]
    }
   ],
   "source": [
    "tuple_1 = (1,5,6,7,8)\n",
    "tuple_2 = (8,9,4)\n",
    "print('Correct ans is D as tuple ')"
   ]
  },
  {
   "cell_type": "markdown",
   "metadata": {},
   "source": [
    "Q18. How many elements in the following data structure?\n",
    "\n",
    "s = {1,2,3,4,4,4,5,6}"
   ]
  },
  {
   "cell_type": "code",
   "execution_count": 18,
   "metadata": {},
   "outputs": [
    {
     "name": "stdout",
     "output_type": "stream",
     "text": [
      "Since this is set, it shows unique values counts. Total count is 6\n"
     ]
    }
   ],
   "source": [
    "s = {1,2,3,4,4,4,5,6}\n",
    "\n",
    "print('Since this is set, it shows unique values counts. Total count is',len(s))"
   ]
  },
  {
   "cell_type": "markdown",
   "metadata": {},
   "source": [
    "Q19.Write a function which finds all pythagorean triplets of triangles whose sides are no\n",
    "greater than a natural number N."
   ]
  },
  {
   "cell_type": "code",
   "execution_count": 19,
   "metadata": {},
   "outputs": [
    {
     "name": "stdout",
     "output_type": "stream",
     "text": [
      "3 4 5\n",
      "8 6 10\n",
      "5 12 13\n",
      "15 8 17\n",
      "12 16 20\n"
     ]
    }
   ],
   "source": [
    "def pythagoreanTriplets(limits) : \n",
    "    c, m = 0, 2\n",
    "  \n",
    "    # Limiting c would limit  \n",
    "    # all a, b and c \n",
    "    while c < limits : \n",
    "          \n",
    "        # Now loop on n from 1 to m-1 \n",
    "        for n in range(1, m) : \n",
    "            a = m * m - n * n \n",
    "            b = 2 * m * n \n",
    "            c = m * m + n * n \n",
    "  \n",
    "            # if c is greater than \n",
    "            # limit then break it \n",
    "            if c > limits : \n",
    "                break\n",
    "  \n",
    "            print(a, b, c) \n",
    "  \n",
    "        m = m + 1\n",
    "\n",
    "limit = 20\n",
    "pythagoreanTriplets(limit) "
   ]
  },
  {
   "cell_type": "code",
   "execution_count": null,
   "metadata": {},
   "outputs": [],
   "source": []
  }
 ],
 "metadata": {
  "kernelspec": {
   "display_name": "Python 3 (ipykernel)",
   "language": "python",
   "name": "python3"
  },
  "language_info": {
   "codemirror_mode": {
    "name": "ipython",
    "version": 3
   },
   "file_extension": ".py",
   "mimetype": "text/x-python",
   "name": "python",
   "nbconvert_exporter": "python",
   "pygments_lexer": "ipython3",
   "version": "3.7.3"
  }
 },
 "nbformat": 4,
 "nbformat_minor": 2
}
